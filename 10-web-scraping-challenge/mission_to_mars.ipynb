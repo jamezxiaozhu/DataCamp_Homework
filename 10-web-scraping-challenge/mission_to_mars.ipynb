{
 "cells": [
  {
   "cell_type": "code",
   "execution_count": 79,
   "metadata": {},
   "outputs": [],
   "source": [
    "# Dependencies\n",
    "from bs4 import BeautifulSoup\n",
    "import requests\n",
    "import pymongo\n",
    "from splinter import Browser\n",
    "from splinter.exceptions import ElementDoesNotExist"
   ]
  },
  {
   "cell_type": "code",
   "execution_count": 6,
   "metadata": {},
   "outputs": [],
   "source": [
    "# Initialize PyMongo to work with MongoDBs\n",
    "conn = 'mongodb://localhost:27017'\n",
    "client = pymongo.MongoClient(conn)"
   ]
  },
  {
   "cell_type": "code",
   "execution_count": 7,
   "metadata": {},
   "outputs": [],
   "source": [
    "# Define database and collection\n",
    "db = client.mars_db\n",
    "collection = db.articles"
   ]
  },
  {
   "cell_type": "markdown",
   "metadata": {},
   "source": [
    "# Nasa Mars News"
   ]
  },
  {
   "cell_type": "code",
   "execution_count": 42,
   "metadata": {},
   "outputs": [],
   "source": [
    "# URL of page to be scraped\n",
    "url = 'https://mars.nasa.gov/news/?page=0&per_page=40&order=publish_date+desc%2Ccreated_at+desc&search=&category=19%2C165%2C184%2C204&blank_scope=Latest'\n",
    "\n",
    "# Retrieve page with the requests module\n",
    "response = requests.get(url)\n",
    "# Create BeautifulSoup object; parse with 'lxml'\n",
    "soup = BeautifulSoup(response.text, 'lxml')"
   ]
  },
  {
   "cell_type": "code",
   "execution_count": 39,
   "metadata": {},
   "outputs": [
    {
     "data": {
      "text/plain": [
       "\"NASA's Mars 2020 Rover Closer to Getting Its Name\""
      ]
     },
     "execution_count": 39,
     "metadata": {},
     "output_type": "execute_result"
    }
   ],
   "source": [
    "# Retrieve the parent divs for all articles\n",
    "news_title = soup.find('div', class_='content_title').text.strip()\n",
    "news_title"
   ]
  },
  {
   "cell_type": "code",
   "execution_count": 76,
   "metadata": {},
   "outputs": [
    {
     "data": {
      "text/plain": [
       "\"155 students from across the U.S. have been chosen as semifinalists in NASA's essay contest to name the Mars 2020 rover, and see it launch from Cape Canaveral this July.\""
      ]
     },
     "execution_count": 76,
     "metadata": {},
     "output_type": "execute_result"
    }
   ],
   "source": [
    "news_p = soup.find('div', class_='rollover_description_inner').text.strip()\n",
    "news_p"
   ]
  },
  {
   "cell_type": "markdown",
   "metadata": {},
   "source": [
    "# JPL Mars Space Images - Featured Image"
   ]
  },
  {
   "cell_type": "code",
   "execution_count": 87,
   "metadata": {},
   "outputs": [],
   "source": [
    "executable_path = {'executable_path': 'chromedriver.exe'}\n",
    "browser = Browser('chrome', **executable_path, headless=False)"
   ]
  },
  {
   "cell_type": "code",
   "execution_count": 97,
   "metadata": {},
   "outputs": [],
   "source": [
    "# URL of page to be scraped\n",
    "url_img = 'https://www.jpl.nasa.gov/spaceimages/?search=&category=Mars'\n",
    "\n",
    "browser.visit(url_img)"
   ]
  },
  {
   "cell_type": "code",
   "execution_count": 112,
   "metadata": {},
   "outputs": [
    {
     "data": {
      "text/plain": [
       "'/spaceimages/images/wallpaper/PIA16711-1920x1200.jpg'"
      ]
     },
     "execution_count": 112,
     "metadata": {},
     "output_type": "execute_result"
    }
   ],
   "source": [
    "try:\n",
    "    browser.select('category', 'featured')\n",
    "    bg_attribute_string =browser.find_by_css('article').first['style']\n",
    "    bg_attribute_string_left = bg_attribute_string.split('(\"',1)[1]\n",
    "    bg_attribute_string_final = bg_attribute_string_left.split('\")',1)[0]\n",
    "    \n",
    "except ElementDoesNotExist:\n",
    "    print(\"Clicking Complete\")\n",
    "\n",
    "\n",
    "bg_attribute_string_final"
   ]
  },
  {
   "cell_type": "code",
   "execution_count": 113,
   "metadata": {},
   "outputs": [
    {
     "data": {
      "text/plain": [
       "'https://www.jpl.nasa.gov/spaceimages/images/wallpaper/PIA16711-1920x1200.jpg'"
      ]
     },
     "execution_count": 113,
     "metadata": {},
     "output_type": "execute_result"
    }
   ],
   "source": [
    "featured_image_url = 'https://www.jpl.nasa.gov' + bg_attribute_string_final\n",
    "featured_image_url"
   ]
  },
  {
   "cell_type": "markdown",
   "metadata": {},
   "source": [
    "# Mars Weather"
   ]
  },
  {
   "cell_type": "code",
   "execution_count": 99,
   "metadata": {},
   "outputs": [],
   "source": [
    "# Retrieve page with the requests module\n",
    "response = requests.get(url)\n",
    "# Create BeautifulSoup object; parse with 'lxml'\n",
    "soup_img = BeautifulSoup(response.text, 'lxml')"
   ]
  },
  {
   "cell_type": "code",
   "execution_count": null,
   "metadata": {},
   "outputs": [],
   "source": [
    "soup_img.find('article','carousel_item')"
   ]
  },
  {
   "cell_type": "code",
   "execution_count": 85,
   "metadata": {},
   "outputs": [
    {
     "ename": "WebDriverException",
     "evalue": "Message: chrome not reachable\n  (Session info: chrome=79.0.3945.130)\n",
     "output_type": "error",
     "traceback": [
      "\u001b[1;31m---------------------------------------------------------------------------\u001b[0m",
      "\u001b[1;31mWebDriverException\u001b[0m                        Traceback (most recent call last)",
      "\u001b[1;32m<ipython-input-85-3de103adac3b>\u001b[0m in \u001b[0;36m<module>\u001b[1;34m\u001b[0m\n\u001b[0;32m      1\u001b[0m \u001b[1;32mtry\u001b[0m\u001b[1;33m:\u001b[0m\u001b[1;33m\u001b[0m\u001b[1;33m\u001b[0m\u001b[0m\n\u001b[1;32m----> 2\u001b[1;33m     \u001b[0mbrowser\u001b[0m\u001b[1;33m.\u001b[0m\u001b[0mfind_by_name\u001b[0m\u001b[1;33m(\u001b[0m\u001b[1;34m'Mars'\u001b[0m\u001b[1;33m)\u001b[0m\u001b[1;33m.\u001b[0m\u001b[0mfirst\u001b[0m\u001b[1;33m.\u001b[0m\u001b[0mclick\u001b[0m\u001b[1;33m(\u001b[0m\u001b[1;33m)\u001b[0m\u001b[1;33m\u001b[0m\u001b[1;33m\u001b[0m\u001b[0m\n\u001b[0m\u001b[0;32m      3\u001b[0m     \u001b[0mbrowser\u001b[0m\u001b[1;33m.\u001b[0m\u001b[0mclick_link_by_partial_text\u001b[0m\u001b[1;33m(\u001b[0m\u001b[1;34m'Featured'\u001b[0m\u001b[1;33m)\u001b[0m\u001b[1;33m\u001b[0m\u001b[1;33m\u001b[0m\u001b[0m\n\u001b[0;32m      4\u001b[0m \u001b[1;32mexcept\u001b[0m \u001b[0mElementDoesNotExist\u001b[0m\u001b[1;33m:\u001b[0m\u001b[1;33m\u001b[0m\u001b[1;33m\u001b[0m\u001b[0m\n\u001b[0;32m      5\u001b[0m     \u001b[0mprint\u001b[0m\u001b[1;33m(\u001b[0m\u001b[1;34m\"Clicking Complete\"\u001b[0m\u001b[1;33m)\u001b[0m\u001b[1;33m\u001b[0m\u001b[1;33m\u001b[0m\u001b[0m\n",
      "\u001b[1;32m~\\AppData\\Local\\Continuum\\anaconda3\\lib\\site-packages\\splinter\\driver\\webdriver\\__init__.py\u001b[0m in \u001b[0;36mfind_by_name\u001b[1;34m(self, name, wait_time)\u001b[0m\n\u001b[0;32m    562\u001b[0m             \u001b[0mself\u001b[0m\u001b[1;33m.\u001b[0m\u001b[0mdriver\u001b[0m\u001b[1;33m.\u001b[0m\u001b[0mfind_elements_by_name\u001b[0m\u001b[1;33m,\u001b[0m\u001b[1;33m\u001b[0m\u001b[1;33m\u001b[0m\u001b[0m\n\u001b[0;32m    563\u001b[0m             \u001b[0mname\u001b[0m\u001b[1;33m,\u001b[0m\u001b[1;33m\u001b[0m\u001b[1;33m\u001b[0m\u001b[0m\n\u001b[1;32m--> 564\u001b[1;33m             \u001b[0mwait_time\u001b[0m\u001b[1;33m=\u001b[0m\u001b[0mwait_time\u001b[0m\u001b[1;33m,\u001b[0m\u001b[1;33m\u001b[0m\u001b[1;33m\u001b[0m\u001b[0m\n\u001b[0m\u001b[0;32m    565\u001b[0m         )\n\u001b[0;32m    566\u001b[0m \u001b[1;33m\u001b[0m\u001b[0m\n",
      "\u001b[1;32m~\\AppData\\Local\\Continuum\\anaconda3\\lib\\site-packages\\splinter\\driver\\webdriver\\__init__.py\u001b[0m in \u001b[0;36mfind_by\u001b[1;34m(self, finder, selector, original_find, original_query, wait_time)\u001b[0m\n\u001b[0;32m    279\u001b[0m \u001b[1;33m\u001b[0m\u001b[0m\n\u001b[0;32m    280\u001b[0m         \u001b[1;32mwhile\u001b[0m \u001b[0mtime\u001b[0m\u001b[1;33m.\u001b[0m\u001b[0mtime\u001b[0m\u001b[1;33m(\u001b[0m\u001b[1;33m)\u001b[0m \u001b[1;33m<\u001b[0m \u001b[0mend_time\u001b[0m\u001b[1;33m:\u001b[0m\u001b[1;33m\u001b[0m\u001b[1;33m\u001b[0m\u001b[0m\n\u001b[1;32m--> 281\u001b[1;33m             \u001b[0melem_list\u001b[0m \u001b[1;33m=\u001b[0m \u001b[0m_find\u001b[0m\u001b[1;33m(\u001b[0m\u001b[0mself\u001b[0m\u001b[1;33m,\u001b[0m \u001b[0mfinder\u001b[0m\u001b[1;33m,\u001b[0m \u001b[0mselector\u001b[0m\u001b[1;33m)\u001b[0m\u001b[1;33m\u001b[0m\u001b[1;33m\u001b[0m\u001b[0m\n\u001b[0m\u001b[0;32m    282\u001b[0m \u001b[1;33m\u001b[0m\u001b[0m\n\u001b[0;32m    283\u001b[0m             \u001b[1;32mif\u001b[0m \u001b[0melem_list\u001b[0m\u001b[1;33m:\u001b[0m\u001b[1;33m\u001b[0m\u001b[1;33m\u001b[0m\u001b[0m\n",
      "\u001b[1;32m~\\AppData\\Local\\Continuum\\anaconda3\\lib\\site-packages\\splinter\\driver\\webdriver\\__init__.py\u001b[0m in \u001b[0;36m_find\u001b[1;34m(self, finder, selector)\u001b[0m\n\u001b[0;32m    239\u001b[0m \u001b[1;33m\u001b[0m\u001b[0m\n\u001b[0;32m    240\u001b[0m     \u001b[1;32mtry\u001b[0m\u001b[1;33m:\u001b[0m\u001b[1;33m\u001b[0m\u001b[1;33m\u001b[0m\u001b[0m\n\u001b[1;32m--> 241\u001b[1;33m         \u001b[0melements\u001b[0m \u001b[1;33m=\u001b[0m \u001b[0mfinder\u001b[0m\u001b[1;33m(\u001b[0m\u001b[0mselector\u001b[0m\u001b[1;33m)\u001b[0m\u001b[1;33m\u001b[0m\u001b[1;33m\u001b[0m\u001b[0m\n\u001b[0m\u001b[0;32m    242\u001b[0m         \u001b[1;32mif\u001b[0m \u001b[1;32mnot\u001b[0m \u001b[0misinstance\u001b[0m\u001b[1;33m(\u001b[0m\u001b[0melements\u001b[0m\u001b[1;33m,\u001b[0m \u001b[0mlist\u001b[0m\u001b[1;33m)\u001b[0m\u001b[1;33m:\u001b[0m\u001b[1;33m\u001b[0m\u001b[1;33m\u001b[0m\u001b[0m\n\u001b[0;32m    243\u001b[0m             \u001b[0melements\u001b[0m \u001b[1;33m=\u001b[0m \u001b[1;33m[\u001b[0m\u001b[0melements\u001b[0m\u001b[1;33m]\u001b[0m\u001b[1;33m\u001b[0m\u001b[1;33m\u001b[0m\u001b[0m\n",
      "\u001b[1;32m~\\AppData\\Local\\Continuum\\anaconda3\\lib\\site-packages\\selenium\\webdriver\\remote\\webdriver.py\u001b[0m in \u001b[0;36mfind_elements_by_name\u001b[1;34m(self, name)\u001b[0m\n\u001b[0;32m    510\u001b[0m             \u001b[0melements\u001b[0m \u001b[1;33m=\u001b[0m \u001b[0mdriver\u001b[0m\u001b[1;33m.\u001b[0m\u001b[0mfind_elements_by_name\u001b[0m\u001b[1;33m(\u001b[0m\u001b[1;34m'foo'\u001b[0m\u001b[1;33m)\u001b[0m\u001b[1;33m\u001b[0m\u001b[1;33m\u001b[0m\u001b[0m\n\u001b[0;32m    511\u001b[0m         \"\"\"\n\u001b[1;32m--> 512\u001b[1;33m         \u001b[1;32mreturn\u001b[0m \u001b[0mself\u001b[0m\u001b[1;33m.\u001b[0m\u001b[0mfind_elements\u001b[0m\u001b[1;33m(\u001b[0m\u001b[0mby\u001b[0m\u001b[1;33m=\u001b[0m\u001b[0mBy\u001b[0m\u001b[1;33m.\u001b[0m\u001b[0mNAME\u001b[0m\u001b[1;33m,\u001b[0m \u001b[0mvalue\u001b[0m\u001b[1;33m=\u001b[0m\u001b[0mname\u001b[0m\u001b[1;33m)\u001b[0m\u001b[1;33m\u001b[0m\u001b[1;33m\u001b[0m\u001b[0m\n\u001b[0m\u001b[0;32m    513\u001b[0m \u001b[1;33m\u001b[0m\u001b[0m\n\u001b[0;32m    514\u001b[0m     \u001b[1;32mdef\u001b[0m \u001b[0mfind_element_by_tag_name\u001b[0m\u001b[1;33m(\u001b[0m\u001b[0mself\u001b[0m\u001b[1;33m,\u001b[0m \u001b[0mname\u001b[0m\u001b[1;33m)\u001b[0m\u001b[1;33m:\u001b[0m\u001b[1;33m\u001b[0m\u001b[1;33m\u001b[0m\u001b[0m\n",
      "\u001b[1;32m~\\AppData\\Local\\Continuum\\anaconda3\\lib\\site-packages\\selenium\\webdriver\\remote\\webdriver.py\u001b[0m in \u001b[0;36mfind_elements\u001b[1;34m(self, by, value)\u001b[0m\n\u001b[0;32m   1005\u001b[0m         return self.execute(Command.FIND_ELEMENTS, {\n\u001b[0;32m   1006\u001b[0m             \u001b[1;34m'using'\u001b[0m\u001b[1;33m:\u001b[0m \u001b[0mby\u001b[0m\u001b[1;33m,\u001b[0m\u001b[1;33m\u001b[0m\u001b[1;33m\u001b[0m\u001b[0m\n\u001b[1;32m-> 1007\u001b[1;33m             'value': value})['value'] or []\n\u001b[0m\u001b[0;32m   1008\u001b[0m \u001b[1;33m\u001b[0m\u001b[0m\n\u001b[0;32m   1009\u001b[0m     \u001b[1;33m@\u001b[0m\u001b[0mproperty\u001b[0m\u001b[1;33m\u001b[0m\u001b[1;33m\u001b[0m\u001b[0m\n",
      "\u001b[1;32m~\\AppData\\Local\\Continuum\\anaconda3\\lib\\site-packages\\selenium\\webdriver\\remote\\webdriver.py\u001b[0m in \u001b[0;36mexecute\u001b[1;34m(self, driver_command, params)\u001b[0m\n\u001b[0;32m    319\u001b[0m         \u001b[0mresponse\u001b[0m \u001b[1;33m=\u001b[0m \u001b[0mself\u001b[0m\u001b[1;33m.\u001b[0m\u001b[0mcommand_executor\u001b[0m\u001b[1;33m.\u001b[0m\u001b[0mexecute\u001b[0m\u001b[1;33m(\u001b[0m\u001b[0mdriver_command\u001b[0m\u001b[1;33m,\u001b[0m \u001b[0mparams\u001b[0m\u001b[1;33m)\u001b[0m\u001b[1;33m\u001b[0m\u001b[1;33m\u001b[0m\u001b[0m\n\u001b[0;32m    320\u001b[0m         \u001b[1;32mif\u001b[0m \u001b[0mresponse\u001b[0m\u001b[1;33m:\u001b[0m\u001b[1;33m\u001b[0m\u001b[1;33m\u001b[0m\u001b[0m\n\u001b[1;32m--> 321\u001b[1;33m             \u001b[0mself\u001b[0m\u001b[1;33m.\u001b[0m\u001b[0merror_handler\u001b[0m\u001b[1;33m.\u001b[0m\u001b[0mcheck_response\u001b[0m\u001b[1;33m(\u001b[0m\u001b[0mresponse\u001b[0m\u001b[1;33m)\u001b[0m\u001b[1;33m\u001b[0m\u001b[1;33m\u001b[0m\u001b[0m\n\u001b[0m\u001b[0;32m    322\u001b[0m             response['value'] = self._unwrap_value(\n\u001b[0;32m    323\u001b[0m                 response.get('value', None))\n",
      "\u001b[1;32m~\\AppData\\Local\\Continuum\\anaconda3\\lib\\site-packages\\selenium\\webdriver\\remote\\errorhandler.py\u001b[0m in \u001b[0;36mcheck_response\u001b[1;34m(self, response)\u001b[0m\n\u001b[0;32m    240\u001b[0m                 \u001b[0malert_text\u001b[0m \u001b[1;33m=\u001b[0m \u001b[0mvalue\u001b[0m\u001b[1;33m[\u001b[0m\u001b[1;34m'alert'\u001b[0m\u001b[1;33m]\u001b[0m\u001b[1;33m.\u001b[0m\u001b[0mget\u001b[0m\u001b[1;33m(\u001b[0m\u001b[1;34m'text'\u001b[0m\u001b[1;33m)\u001b[0m\u001b[1;33m\u001b[0m\u001b[1;33m\u001b[0m\u001b[0m\n\u001b[0;32m    241\u001b[0m             \u001b[1;32mraise\u001b[0m \u001b[0mexception_class\u001b[0m\u001b[1;33m(\u001b[0m\u001b[0mmessage\u001b[0m\u001b[1;33m,\u001b[0m \u001b[0mscreen\u001b[0m\u001b[1;33m,\u001b[0m \u001b[0mstacktrace\u001b[0m\u001b[1;33m,\u001b[0m \u001b[0malert_text\u001b[0m\u001b[1;33m)\u001b[0m\u001b[1;33m\u001b[0m\u001b[1;33m\u001b[0m\u001b[0m\n\u001b[1;32m--> 242\u001b[1;33m         \u001b[1;32mraise\u001b[0m \u001b[0mexception_class\u001b[0m\u001b[1;33m(\u001b[0m\u001b[0mmessage\u001b[0m\u001b[1;33m,\u001b[0m \u001b[0mscreen\u001b[0m\u001b[1;33m,\u001b[0m \u001b[0mstacktrace\u001b[0m\u001b[1;33m)\u001b[0m\u001b[1;33m\u001b[0m\u001b[1;33m\u001b[0m\u001b[0m\n\u001b[0m\u001b[0;32m    243\u001b[0m \u001b[1;33m\u001b[0m\u001b[0m\n\u001b[0;32m    244\u001b[0m     \u001b[1;32mdef\u001b[0m \u001b[0m_value_or_default\u001b[0m\u001b[1;33m(\u001b[0m\u001b[0mself\u001b[0m\u001b[1;33m,\u001b[0m \u001b[0mobj\u001b[0m\u001b[1;33m,\u001b[0m \u001b[0mkey\u001b[0m\u001b[1;33m,\u001b[0m \u001b[0mdefault\u001b[0m\u001b[1;33m)\u001b[0m\u001b[1;33m:\u001b[0m\u001b[1;33m\u001b[0m\u001b[1;33m\u001b[0m\u001b[0m\n",
      "\u001b[1;31mWebDriverException\u001b[0m: Message: chrome not reachable\n  (Session info: chrome=79.0.3945.130)\n"
     ]
    }
   ],
   "source": [
    "try:\n",
    "    browser.select('category', 'featured')\n",
    "    \n",
    "except ElementDoesNotExist:\n",
    "    print(\"Clicking Complete\")"
   ]
  },
  {
   "cell_type": "code",
   "execution_count": null,
   "metadata": {},
   "outputs": [],
   "source": []
  },
  {
   "cell_type": "code",
   "execution_count": null,
   "metadata": {},
   "outputs": [],
   "source": []
  },
  {
   "cell_type": "code",
   "execution_count": 5,
   "metadata": {},
   "outputs": [
    {
     "name": "stdout",
     "output_type": "stream",
     "text": [
      "-----------------\n",
      "Lady Byng Trophy finalists unveiled\n",
      "Barkov, O'Reilly, William Karlsson up for award given for combination of skill, gentlemanly play\n",
      "2018-04-20\n",
      "19:00pm\n",
      "-----------------\n",
      "Peters resigns as Hurricanes coach\n",
      "Went 137-138-53 in four seasons with Carolina\n",
      "2018-04-20\n",
      "12:00am\n",
      "-----------------\n",
      "Bergeron skates, could return for Bruins in Game 5 against Maple Leafs\n",
      "Boston one win from advancing to second round\n",
      "2018-04-20\n",
      "14:33pm\n",
      "-----------------\n",
      "Friday Four: Golden Knights continue fairy-tale season\n",
      "NHL Network analyst Weekes also discusses Sharks, Capitals-Blue Jackets series, Subban\n",
      "2018-04-20\n",
      "14:01pm\n",
      "-----------------\n",
      "Fantasy: Daily primer for 2018 Stanley Cup Playoffs\n",
      "Kadri back from suspension in Game 5; Bergeron could return; Wennberg skating\n",
      "2018-04-20\n",
      "19:05pm\n",
      "-----------------\n",
      "Sharks expect to stick with same lineup in second round\n",
      "Coach says he'd be 'idiot' to make changes from group that swept Ducks\n",
      "2018-04-20\n",
      "17:20pm\n",
      "-----------------\n",
      "Doughty open to signing extension with Kings\n",
      "Norris Trophy finalist can begin negotiations July 1, has one season remaining on contract\n",
      "2018-04-20\n",
      "13:27pm\n",
      "-----------------\n",
      "Lightning hope Callahan can play against Devils in Game 5\n",
      "Forward could return from upper-body injury; New Jersey might be without defenseman Vatanen\n",
      "2018-04-20\n",
      "15:09pm\n",
      "-----------------\n",
      "Matthews, others fail to boost Maple Leafs against Bruins in Game 4\n",
      "Toronto on brink of elimination after Nylander, Andersen also struggle\n",
      "2018-04-20\n",
      "00:54am\n",
      "-----------------\n",
      "Cole brings playoff experience to young Blue Jackets\n",
      "Two-time Cup winner provides championship pedigree for team that has never won postseason series\n",
      "2018-04-20\n",
      "16:35pm\n",
      "-----------------\n",
      "Matthews has top-selling NHL jersey this season\n",
      "Maple Leafs forward ahead of Crosby, McDavid\n",
      "2018-04-20\n",
      "10:00am\n",
      "-----------------\n",
      "Zajac aims to carry load, help Devils extend series against Lightning\n",
      "Veteran center will be relied upon again by New Jersey in Game 5\n",
      "2018-04-20\n",
      "11:35am\n",
      "-----------------\n",
      "Bruins step up without Bergeron against Maple Leafs in Game 4\n",
      "Marchand, Pastrnak combine for three points for Boston, which is one win from advancing\n",
      "2018-04-20\n",
      "01:18am\n",
      "-----------------\n",
      "Lamoureuxs enjoying Golden Knights playoff success\n",
      "Twins who won Olympic gold with U.S. women's hockey team keeping close eye on Stanley Cup Playoffs\n",
      "2018-04-20\n",
      "14:13pm\n",
      "-----------------\n",
      "Girl who got puck from Connolly to meet Capitals forward\n",
      "Keelan Moxley, family will be guests of Washington owner for Game 5 against Blue Jackets\n",
      "2018-04-19\n",
      "13:48pm\n",
      "-----------------\n",
      "Vatanen questionable for Devils in Game 5 against Lightning\n",
      "Defenseman has upper-body injury after hit by Kucherov\n",
      "2018-04-19\n",
      "13:33pm\n",
      "-----------------\n",
      "Quinn named U.S. coach at 2019 World Junior Championship\n",
      "Has led Boston University to four straight NCAA tournament appearances\n",
      "2018-04-20\n",
      "16:34pm\n",
      "-----------------\n",
      "Commissioner Bettman, Messier part of 9/11 exhibition\n",
      "Display at New York museum to explore role sports played after terrorist attacks\n",
      "2018-04-20\n",
      "10:00am\n",
      "-----------------\n",
      "Where to watch 2018 Stanley Cup Playoffs\n",
      "Viewer's guide for upcoming NHL postseason games\n",
      "2018-04-20\n",
      "12:38am\n",
      "-----------------\n",
      "Fantasy: Rankings for 2018 Stanley Cup Playoffs\n",
      "NHL.com lists most valuable forwards, defensemen, goaltenders for basic postseason pools\n",
      "2018-04-19\n",
      "11:00am\n",
      "-----------------\n",
      "Hockey 101 with Snoop\n",
      "Episode 2: Slang\n",
      "2018-04-18\n",
      "13:00pm\n",
      "-----------------\n",
      "Watch every overtime goal in Stanley Cup Playoffs\n",
      "Eller scores for Capitals in second OT of Game 3 against Blue Jackets\n",
      "2018-04-17\n",
      "23:38pm\n",
      "-----------------\n",
      "Stanley Cup Playoffs first-round schedule\n",
      "Penguins, Golden Knights eye history\n",
      "2018-04-18\n",
      "11:05am\n"
     ]
    }
   ],
   "source": [
    "# Retrieve the parent divs for all articles\n",
    "results = soup.find_all('div', class_='slide')\n",
    "\n",
    "# Loop through results to retrieve article title, header, and timestamp of article\n",
    "for result in results:\n",
    "    title = result.find('div', class_='content-title').text\n",
    "\n",
    "    lede = result.find('h5', class_='mixed-feed__subheader').text\n",
    "\n",
    "    # The time and date of article publication\n",
    "    date = result.find('time')['datetime']\n",
    "    # Slice the datetime string for the date\n",
    "    article_date = date[:10]\n",
    "    # Slice the datetime string for the time\n",
    "    time = date[11:16]\n",
    "    # Determine whether article was published in AM or PM\n",
    "    if (int(time[:2]) >= 13):\n",
    "        meridiem = 'pm'\n",
    "    else:\n",
    "        meridiem = 'am'\n",
    "\n",
    "    # Concatenate time string\n",
    "    time = time + meridiem\n",
    "    print('-----------------')\n",
    "    print(title)\n",
    "    print(lede)\n",
    "    print(article_date)\n",
    "    print(time)\n",
    "\n",
    "    # Dictionary to be inserted into MongoDB\n",
    "    post = {\n",
    "        'title': title,\n",
    "        'lede': lede,\n",
    "        'date': article_date,\n",
    "        'time published': time\n",
    "    }\n",
    "\n",
    "    # Insert dictionary into MongoDB as a document\n",
    "    collection.insert_one(post)"
   ]
  },
  {
   "cell_type": "code",
   "execution_count": 6,
   "metadata": {},
   "outputs": [
    {
     "name": "stdout",
     "output_type": "stream",
     "text": [
      "{'_id': ObjectId('5ada7a1bee61f93d3f7e3d07'), 'title': 'Lady Byng Trophy finalists unveiled', 'lede': \"Barkov, O'Reilly, William Karlsson up for award given for combination of skill, gentlemanly play\", 'date': '2018-04-20', 'time published': '19:00pm'}\n",
      "{'_id': ObjectId('5ada7a1bee61f93d3f7e3d08'), 'title': 'Peters resigns as Hurricanes coach', 'lede': 'Went 137-138-53 in four seasons with Carolina', 'date': '2018-04-20', 'time published': '12:00am'}\n",
      "{'_id': ObjectId('5ada7a1bee61f93d3f7e3d09'), 'title': 'Bergeron skates, could return for Bruins in Game 5 against Maple Leafs', 'lede': 'Boston one win from advancing to second round', 'date': '2018-04-20', 'time published': '14:33pm'}\n",
      "{'_id': ObjectId('5ada7a1bee61f93d3f7e3d0a'), 'title': 'Friday Four: Golden Knights continue fairy-tale season', 'lede': 'NHL Network analyst Weekes also discusses Sharks, Capitals-Blue Jackets series, Subban', 'date': '2018-04-20', 'time published': '14:01pm'}\n",
      "{'_id': ObjectId('5ada7a1bee61f93d3f7e3d0b'), 'title': 'Fantasy: Daily primer for 2018 Stanley Cup Playoffs', 'lede': 'Kadri back from suspension in Game 5; Bergeron could return; Wennberg skating', 'date': '2018-04-20', 'time published': '19:05pm'}\n",
      "{'_id': ObjectId('5ada7a1bee61f93d3f7e3d0c'), 'title': 'Sharks expect to stick with same lineup in second round', 'lede': \"Coach says he'd be 'idiot' to make changes from group that swept Ducks\", 'date': '2018-04-20', 'time published': '17:20pm'}\n",
      "{'_id': ObjectId('5ada7a1bee61f93d3f7e3d0d'), 'title': 'Doughty open to signing extension with Kings', 'lede': 'Norris Trophy finalist can begin negotiations July 1, has one season remaining on contract', 'date': '2018-04-20', 'time published': '13:27pm'}\n",
      "{'_id': ObjectId('5ada7a1bee61f93d3f7e3d0e'), 'title': 'Lightning hope Callahan can play against Devils in Game 5', 'lede': 'Forward could return from upper-body injury; New Jersey might be without defenseman Vatanen', 'date': '2018-04-20', 'time published': '15:09pm'}\n",
      "{'_id': ObjectId('5ada7a1bee61f93d3f7e3d0f'), 'title': 'Matthews, others fail to boost Maple Leafs against Bruins in Game 4', 'lede': 'Toronto on brink of elimination after Nylander, Andersen also struggle', 'date': '2018-04-20', 'time published': '00:54am'}\n",
      "{'_id': ObjectId('5ada7a1bee61f93d3f7e3d10'), 'title': 'Cole brings playoff experience to young Blue Jackets', 'lede': 'Two-time Cup winner provides championship pedigree for team that has never won postseason series', 'date': '2018-04-20', 'time published': '16:35pm'}\n",
      "{'_id': ObjectId('5ada7a1bee61f93d3f7e3d11'), 'title': 'Matthews has top-selling NHL jersey this season', 'lede': 'Maple Leafs forward ahead of Crosby, McDavid', 'date': '2018-04-20', 'time published': '10:00am'}\n",
      "{'_id': ObjectId('5ada7a1bee61f93d3f7e3d12'), 'title': 'Zajac aims to carry load, help Devils extend series against Lightning', 'lede': 'Veteran center will be relied upon again by New Jersey in Game 5', 'date': '2018-04-20', 'time published': '11:35am'}\n",
      "{'_id': ObjectId('5ada7a1bee61f93d3f7e3d13'), 'title': 'Bruins step up without Bergeron against Maple Leafs in Game 4', 'lede': 'Marchand, Pastrnak combine for three points for Boston, which is one win from advancing', 'date': '2018-04-20', 'time published': '01:18am'}\n",
      "{'_id': ObjectId('5ada7a1bee61f93d3f7e3d14'), 'title': 'Lamoureuxs enjoying Golden Knights playoff success', 'lede': \"Twins who won Olympic gold with U.S. women's hockey team keeping close eye on Stanley Cup Playoffs\", 'date': '2018-04-20', 'time published': '14:13pm'}\n",
      "{'_id': ObjectId('5ada7a1bee61f93d3f7e3d15'), 'title': 'Girl who got puck from Connolly to meet Capitals forward', 'lede': 'Keelan Moxley, family will be guests of Washington owner for Game 5 against Blue Jackets', 'date': '2018-04-19', 'time published': '13:48pm'}\n",
      "{'_id': ObjectId('5ada7a1bee61f93d3f7e3d16'), 'title': 'Vatanen questionable for Devils in Game 5 against Lightning', 'lede': 'Defenseman has upper-body injury after hit by Kucherov', 'date': '2018-04-19', 'time published': '13:33pm'}\n",
      "{'_id': ObjectId('5ada7a1bee61f93d3f7e3d17'), 'title': 'Quinn named U.S. coach at 2019 World Junior Championship', 'lede': 'Has led Boston University to four straight NCAA tournament appearances', 'date': '2018-04-20', 'time published': '16:34pm'}\n",
      "{'_id': ObjectId('5ada7a1bee61f93d3f7e3d18'), 'title': 'Commissioner Bettman, Messier part of 9/11 exhibition', 'lede': 'Display at New York museum to explore role sports played after terrorist attacks', 'date': '2018-04-20', 'time published': '10:00am'}\n",
      "{'_id': ObjectId('5ada7a1bee61f93d3f7e3d19'), 'title': 'Where to watch 2018 Stanley Cup Playoffs', 'lede': \"Viewer's guide for upcoming NHL postseason games\", 'date': '2018-04-20', 'time published': '12:38am'}\n",
      "{'_id': ObjectId('5ada7a1bee61f93d3f7e3d1a'), 'title': 'Fantasy: Rankings for 2018 Stanley Cup Playoffs', 'lede': 'NHL.com lists most valuable forwards, defensemen, goaltenders for basic postseason pools', 'date': '2018-04-19', 'time published': '11:00am'}\n",
      "{'_id': ObjectId('5ada7a1bee61f93d3f7e3d1b'), 'title': 'Hockey 101 with Snoop', 'lede': 'Episode 2: Slang', 'date': '2018-04-18', 'time published': '13:00pm'}\n",
      "{'_id': ObjectId('5ada7a1bee61f93d3f7e3d1c'), 'title': 'Watch every overtime goal in Stanley Cup Playoffs', 'lede': 'Eller scores for Capitals in second OT of Game 3 against Blue Jackets', 'date': '2018-04-17', 'time published': '23:38pm'}\n",
      "{'_id': ObjectId('5ada7a1bee61f93d3f7e3d1d'), 'title': 'Stanley Cup Playoffs first-round schedule', 'lede': 'Penguins, Golden Knights eye history', 'date': '2018-04-18', 'time published': '11:05am'}\n"
     ]
    }
   ],
   "source": [
    "# Display the MongoDB records created above\n",
    "articles = db.articles.find()\n",
    "for article in articles:\n",
    "    print(article)"
   ]
  }
 ],
 "metadata": {
  "kernelspec": {
   "display_name": "Python 3",
   "language": "python",
   "name": "python3"
  },
  "language_info": {
   "codemirror_mode": {
    "name": "ipython",
    "version": 3
   },
   "file_extension": ".py",
   "mimetype": "text/x-python",
   "name": "python",
   "nbconvert_exporter": "python",
   "pygments_lexer": "ipython3",
   "version": "3.7.4"
  },
  "varInspector": {
   "cols": {
    "lenName": 16,
    "lenType": 16,
    "lenVar": 40
   },
   "kernels_config": {
    "python": {
     "delete_cmd_postfix": "",
     "delete_cmd_prefix": "del ",
     "library": "var_list.py",
     "varRefreshCmd": "print(var_dic_list())"
    },
    "r": {
     "delete_cmd_postfix": ") ",
     "delete_cmd_prefix": "rm(",
     "library": "var_list.r",
     "varRefreshCmd": "cat(var_dic_list()) "
    }
   },
   "types_to_exclude": [
    "module",
    "function",
    "builtin_function_or_method",
    "instance",
    "_Feature"
   ],
   "window_display": false
  }
 },
 "nbformat": 4,
 "nbformat_minor": 2
}
